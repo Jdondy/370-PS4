{
 "cells": [
  {
   "cell_type": "code",
   "execution_count": 2,
   "id": "07a40750-1f48-41b2-a37a-b4be4a1def9c",
   "metadata": {},
   "outputs": [],
   "source": [
    "import pandas as pd\n",
    "import numpy as np\n",
    "import matplotlib.pyplot as plt\n",
    "import seaborn as sns"
   ]
  },
  {
   "cell_type": "markdown",
   "id": "13d7beb9-bd42-49b7-b400-77be30164dea",
   "metadata": {
    "tags": []
   },
   "source": [
    "# Problem Set 4"
   ]
  },
  {
   "cell_type": "markdown",
   "id": "e14f453d-a086-4588-aa8a-9e1e96175f55",
   "metadata": {},
   "source": [
    "## 1. Simulations\n",
    "#### 1."
   ]
  },
  {
   "cell_type": "code",
   "execution_count": 55,
   "id": "15fbd596-3201-4604-b159-739efe3be82a",
   "metadata": {},
   "outputs": [
    {
     "name": "stdout",
     "output_type": "stream",
     "text": [
      "Shape of data:  (400, 2)\n",
      "NA's:  Research            0\n",
      "Chance of Admit     0\n",
      "dtype: int64\n"
     ]
    },
    {
     "data": {
      "text/html": [
       "<div>\n",
       "<style scoped>\n",
       "    .dataframe tbody tr th:only-of-type {\n",
       "        vertical-align: middle;\n",
       "    }\n",
       "\n",
       "    .dataframe tbody tr th {\n",
       "        vertical-align: top;\n",
       "    }\n",
       "\n",
       "    .dataframe thead th {\n",
       "        text-align: right;\n",
       "    }\n",
       "</style>\n",
       "<table border=\"1\" class=\"dataframe\">\n",
       "  <thead>\n",
       "    <tr style=\"text-align: right;\">\n",
       "      <th></th>\n",
       "      <th>Research</th>\n",
       "      <th>Chance of Admit</th>\n",
       "    </tr>\n",
       "  </thead>\n",
       "  <tbody>\n",
       "    <tr>\n",
       "      <th>0</th>\n",
       "      <td>1</td>\n",
       "      <td>0.92</td>\n",
       "    </tr>\n",
       "    <tr>\n",
       "      <th>1</th>\n",
       "      <td>1</td>\n",
       "      <td>0.76</td>\n",
       "    </tr>\n",
       "    <tr>\n",
       "      <th>2</th>\n",
       "      <td>1</td>\n",
       "      <td>0.72</td>\n",
       "    </tr>\n",
       "    <tr>\n",
       "      <th>3</th>\n",
       "      <td>1</td>\n",
       "      <td>0.80</td>\n",
       "    </tr>\n",
       "    <tr>\n",
       "      <th>4</th>\n",
       "      <td>0</td>\n",
       "      <td>0.65</td>\n",
       "    </tr>\n",
       "  </tbody>\n",
       "</table>\n",
       "</div>"
      ],
      "text/plain": [
       "   Research  Chance of Admit \n",
       "0         1              0.92\n",
       "1         1              0.76\n",
       "2         1              0.72\n",
       "3         1              0.80\n",
       "4         0              0.65"
      ]
     },
     "execution_count": 55,
     "metadata": {},
     "output_type": "execute_result"
    }
   ],
   "source": [
    "college = pd.read_csv(\"../Data/college-admissions.csv.bz2\")\n",
    "college = college[['Research', 'Chance of Admit ']]\n",
    "print(\"Shape of data: \", college.shape)\n",
    "print(\"NA's: \", college.isna().sum())\n",
    "college.head()"
   ]
  },
  {
   "cell_type": "markdown",
   "id": "098249fc-7d7d-4d1e-baab-0d23f800c685",
   "metadata": {},
   "source": [
    "#### 2."
   ]
  },
  {
   "cell_type": "code",
   "execution_count": 68,
   "id": "ac748c94-c4be-40d5-a359-d234aa591e15",
   "metadata": {},
   "outputs": [
    {
     "name": "stdout",
     "output_type": "stream",
     "text": [
      "Avg. admissions chance:  0.7243499999999996\n",
      "Median admissions chance:  0.73\n",
      "Standard deviation of admissions chance:  0.1424309569580995\n",
      "Range of admissions chance:  0.6299999999999999\n",
      "Mean admissions with research:  0.7959817351598172 Compared to without research:  0.6376795580110497\n"
     ]
    }
   ],
   "source": [
    "adm_mean = np.mean(college['Chance of Admit '])\n",
    "adm_med = np.median(college['Chance of Admit '])\n",
    "adm_sd = np.std(college['Chance of Admit '])\n",
    "adm_range = college.max()['Chance of Admit '] - college.min()['Chance of Admit ']\n",
    "print(\"Avg. admissions chance: \", adm_mean)\n",
    "print(\"Median admissions chance: \", adm_med)\n",
    "print(\"Standard deviation of admissions chance: \", adm_sd)\n",
    "print(\"Range of admissions chance: \", adm_range)\n",
    "college1 = college[college[\"Research\"] > 0]\n",
    "r_mean = np.mean(college1['Chance of Admit '])\n",
    "college0 = college[college[\"Research\"] < 1]\n",
    "nr_mean = np.mean(college0['Chance of Admit '])\n",
    "print(\"Mean admissions with research: \", r_mean, \"Compared to without research: \", nr_mean)"
   ]
  },
  {
   "cell_type": "markdown",
   "id": "706c34d5-2bb7-4d57-80af-3eaec23f7a5c",
   "metadata": {},
   "source": [
    "There is a higher chance of amdission if you're involved in research, according to this data."
   ]
  },
  {
   "cell_type": "markdown",
   "id": "5274fa8b-e25f-4376-9c35-59d39e961d8e",
   "metadata": {},
   "source": [
    "#### 3."
   ]
  },
  {
   "cell_type": "code",
   "execution_count": 71,
   "id": "4f697f8b-3b2e-4c4b-8bef-fbef676c04f8",
   "metadata": {},
   "outputs": [
    {
     "data": {
      "image/png": "[encoded data removed]",
      "text/plain": [
       "<Figure size 432x288 with 1 Axes>"
      ]
     },
     "metadata": {
      "needs_background": "light"
     },
     "output_type": "display_data"
    },
    {
     "data": {
      "image/png": "[encoded data removed]",
      "text/plain": [
       "<Figure size 432x288 with 1 Axes>"
      ]
     },
     "metadata": {
      "needs_background": "light"
     },
     "output_type": "display_data"
    }
   ],
   "source": [
    "plt.hist(college1, bins = 'auto', edgecolor = \"black\")\n",
    "plt.title(\"With Research\")\n",
    "plt.show()\n",
    "\n",
    "plt.hist(college0, bins = 'auto', edgecolor = \"black\")\n",
    "plt.title(\"Without Research\")\n",
    "plt.show()"
   ]
  },
  {
   "cell_type": "markdown",
   "id": "cc8f798e-c4bd-4cb7-8916-c110f7a68bd6",
   "metadata": {},
   "source": [
    "Nope, these chances are not normally distributed. Skewed right and skewed left."
   ]
  },
  {
   "cell_type": "markdown",
   "id": "069d0604-6f90-411b-a18f-c866fe7159e9",
   "metadata": {},
   "source": [
    "#### 4."
   ]
  },
  {
   "cell_type": "code",
   "execution_count": 76,
   "id": "e3e3c81d-f319-4672-abc3-342629057ae7",
   "metadata": {},
   "outputs": [
    {
     "name": "stdout",
     "output_type": "stream",
     "text": [
      "Difference between research vs no research mean: 0.1583021771487675\n"
     ]
    }
   ],
   "source": [
    "r_diff = r_mean - nr_mean\n",
    "print(\"Difference between research vs no research mean:\",r_diff)"
   ]
  },
  {
   "cell_type": "markdown",
   "id": "78a01478-cad5-4a8f-a9e3-3d52aa0baa3e",
   "metadata": {},
   "source": [
    "#### 5."
   ]
  },
  {
   "cell_type": "code",
   "execution_count": 77,
   "id": "be762907-dcd3-4658-91d1-779fd32cc591",
   "metadata": {},
   "outputs": [
    {
     "name": "stdout",
     "output_type": "stream",
     "text": [
      "Avg. H0 admissions chance:  0.7243499999999996\n",
      "Standard deviation of H0 admissions chance:  0.1424309569580995\n"
     ]
    }
   ],
   "source": [
    "print(\"Avg. H0 admissions chance: \", adm_mean)\n",
    "print(\"Standard deviation of H0 admissions chance: \", adm_sd)"
   ]
  },
  {
   "cell_type": "markdown",
   "id": "86f393de-3271-4151-a4bb-a553e7259c7e",
   "metadata": {},
   "source": [
    "#### 6."
   ]
  },
  {
   "cell_type": "code",
   "execution_count": 87,
   "id": "62ae0d75-3311-4f62-8d0f-a80febf8b48c",
   "metadata": {},
   "outputs": [
    {
     "name": "stdout",
     "output_type": "stream",
     "text": [
      "Difference between test means: 0.0006899868443989154\n",
      "Compared to the real data: 0.1583021771487675\n"
     ]
    }
   ],
   "source": [
    "faker = np.random.normal(adm_mean,adm_sd, size=200) #create fakeresearchers\n",
    "fakenr = np.random.normal(adm_mean, adm_sd, size=200) #create6fakenon-researchers\n",
    "print(\"Difference between test means:\", np.mean(faker) - np.mean(fakenr))\n",
    "print(\"Compared to the real data:\", r_diff)"
   ]
  },
  {
   "cell_type": "markdown",
   "id": "6faf4bcc-3538-427d-b3a9-c5e41181abd1",
   "metadata": {},
   "source": [
    "#### 7.\n",
    "Because we are using the data for all students combined so we have to use the mean from the dame data."
   ]
  },
  {
   "cell_type": "markdown",
   "id": "5c2f028d-bd4e-4d59-a105-01533daacf51",
   "metadata": {},
   "source": [
    "#### 8."
   ]
  },
  {
   "cell_type": "code",
   "execution_count": 95,
   "id": "b7f9f777-985e-44d5-ab00-c8671fb800f3",
   "metadata": {},
   "outputs": [],
   "source": [
    "R = 1000\n",
    "pollmeans1 = []\n",
    "pollmeans0 = []\n",
    "polldiff = []\n",
    "for i in range(R):\n",
    "    mean1 = np.random.normal(faker, 200).mean()\n",
    "    pollmeans1.append(mean1)\n",
    "    mean0 = np.random.normal(fakenr, 200).mean()\n",
    "    pollmeans0.append(mean0)\n",
    "    polldiff.append(mean1 - mean0)"
   ]
  },
  {
   "cell_type": "markdown",
   "id": "a537af83-aeb2-4e44-a1af-1d7d9144b3a7",
   "metadata": {},
   "source": [
    "#### 9."
   ]
  },
  {
   "cell_type": "code",
   "execution_count": 98,
   "id": "e756a616-e53a-44cd-bf12-f8a2d367ce0a",
   "metadata": {},
   "outputs": [
    {
     "name": "stdout",
     "output_type": "stream",
     "text": [
      "Mean of differences through 1000 trials: -0.013732302756991487\n"
     ]
    }
   ],
   "source": [
    "print(\"Mean of differences through 1000 trials:\", np.mean(polldiff))"
   ]
  },
  {
   "cell_type": "markdown",
   "id": "d0059b66-6374-4064-bedd-0b908efd8116",
   "metadata": {},
   "source": [
    "We get a result this close to 0 because it is following a normal distribution where the center of the differences will be around 0."
   ]
  },
  {
   "cell_type": "markdown",
   "id": "f355855a-c349-4147-9470-736870137329",
   "metadata": {},
   "source": [
    "#### 10."
   ]
  },
  {
   "cell_type": "code",
   "execution_count": 162,
   "id": "b61dab7d-4140-4c0e-b35b-a4d5a5b47bef",
   "metadata": {},
   "outputs": [
    {
     "name": "stdout",
     "output_type": "stream",
     "text": [
      "The max mean difference is: 69.46714944983232\n"
     ]
    }
   ],
   "source": [
    "absdiff = np.abs(polldiff) # absolute value of polldif\n",
    "print(\"The max mean difference is:\" ,max(absdiff))"
   ]
  },
  {
   "cell_type": "markdown",
   "id": "d9735dc9-c23b-4ddf-8ac4-1a5c17571f53",
   "metadata": {},
   "source": [
    "#### 11."
   ]
  },
  {
   "cell_type": "code",
   "execution_count": 104,
   "id": "b98f665d-dd36-4e86-8e12-d60136427e0b",
   "metadata": {},
   "outputs": [
    {
     "data": {
      "text/plain": [
       "-39.62036125927491"
      ]
     },
     "execution_count": 104,
     "metadata": {},
     "output_type": "execute_result"
    }
   ],
   "source": [
    "np.percentile(polldiff, 2.5) # lower 2.5 percentile"
   ]
  },
  {
   "cell_type": "markdown",
   "id": "45c2523b-140e-4c4a-b7a0-fa1f3f1387e8",
   "metadata": {},
   "source": [
    "np.percentile(polldiff, 97.5) # 97.5-th percentile"
   ]
  },
  {
   "cell_type": "markdown",
   "id": "37e4a6a4-99a2-4f5d-aa0f-f69703c30723",
   "metadata": {},
   "source": [
    "The actual data value of 0.158 does fall within the confidence interval."
   ]
  },
  {
   "cell_type": "markdown",
   "id": "5de48f38-c506-4a56-bfea-18e9c91b8bad",
   "metadata": {},
   "source": [
    "#### 12.\n",
    "Based off the simulations, we are still able to assume that researchers and non-researchers have similar admission chances. The number 0.158, however, does not appear to be a fluke because it falls within our confidence interval."
   ]
  },
  {
   "cell_type": "markdown",
   "id": "700f28f9-2ec6-4314-a8f5-0f7ed40924d4",
   "metadata": {},
   "source": [
    "## 2.\n",
    "#### 1."
   ]
  },
  {
   "cell_type": "code",
   "execution_count": 131,
   "id": "c92dfec3-3df4-496d-8009-4f399756eb94",
   "metadata": {},
   "outputs": [
    {
     "name": "stdout",
     "output_type": "stream",
     "text": [
      "Standard error: 0.011398480675663639\n"
     ]
    }
   ],
   "source": [
    "nr_std = np.std(college0['Chance of Admit ']) #std for non-researchers \n",
    "nr_sz = college0['Chance of Admit '].count() #std for non-researchers \n",
    "r_std = np.std(college0['Chance of Admit ']) #std for researchers \n",
    "r_sz = college1['Chance of Admit '].count() #count for researchers \n",
    "se = np.sqrt((r_std)**2 / r_sz + (nr_std)**2 / nr_sz) # standard error calculation\n",
    "print(\"Standard error:\", se)"
   ]
  },
  {
   "cell_type": "markdown",
   "id": "e8ce1191-5bd0-4b70-a5a6-5284e5f8a4ac",
   "metadata": {},
   "source": [
    "#### 2."
   ]
  },
  {
   "cell_type": "code",
   "execution_count": 139,
   "id": "0bff19f2-2bb9-41f3-995f-3aecdab02ec0",
   "metadata": {},
   "outputs": [
    {
     "name": "stdout",
     "output_type": "stream",
     "text": [
      "The 95% confidence int. is: 0.1326568152659566 - 0.18394753903157837\n"
     ]
    }
   ],
   "source": [
    "int1 = r_diff + 2.249893 * se # interval 1 of 95% \n",
    "int2 = r_diff - 2.249893 * se # interval 2 of 95% \n",
    "print(\"The 95% confidence int. is:\", int2, \"-\", int1)"
   ]
  },
  {
   "cell_type": "markdown",
   "id": "5151ace5-a24c-40bd-9543-b11ea5153fe3",
   "metadata": {},
   "source": [
    "#### 3.\n",
    "Based off this testing, we fail to reject H0 because the value 0.158 does fit within the confidence interval."
   ]
  },
  {
   "cell_type": "markdown",
   "id": "09f79558-10d4-481b-951f-6e0d9b0a8f54",
   "metadata": {},
   "source": [
    "#### 4"
   ]
  },
  {
   "cell_type": "code",
   "execution_count": 161,
   "id": "4a6dd626-3d5c-46b4-afdf-71c7b234f4e2",
   "metadata": {},
   "outputs": [
    {
     "data": {
      "text/plain": [
       "13.888006801358276"
      ]
     },
     "execution_count": 161,
     "metadata": {},
     "output_type": "execute_result"
    }
   ],
   "source": [
    "t = r_diff / se # ttest calculation\n",
    "t"
   ]
  },
  {
   "cell_type": "markdown",
   "id": "4f0c3caa-c396-48b3-918c-ba15dd955341",
   "metadata": {},
   "source": [
    "#### 5.\n",
    "This would be very unlikely, and the value would be to the right side of the table. This large score indicates that the two groups are very different."
   ]
  },
  {
   "cell_type": "markdown",
   "id": "0df5743c-4ce0-4bdd-943c-f86dabeb355c",
   "metadata": {},
   "source": [
    "## 3."
   ]
  },
  {
   "cell_type": "markdown",
   "id": "511fe4d0-9b73-467e-b26a-23276fa3162e",
   "metadata": {},
   "source": [
    "#### 1."
   ]
  },
  {
   "cell_type": "code",
   "execution_count": 148,
   "id": "3ff180ff-d892-4a7c-8572-88dbe8cf4c03",
   "metadata": {},
   "outputs": [],
   "source": [
    "from scipy import stats"
   ]
  },
  {
   "cell_type": "code",
   "execution_count": 159,
   "id": "1acc944f-bf03-480e-97b8-05994f63883b",
   "metadata": {},
   "outputs": [
    {
     "data": {
      "text/plain": [
       "Ttest_indResult(statistic=-13.248168764786403, pvalue=1.918173380692434e-33)"
      ]
     },
     "execution_count": 159,
     "metadata": {},
     "output_type": "execute_result"
    }
   ],
   "source": [
    "bruh0 = college0['Chance of Admit ']\n",
    "bruh1 = college1['Chance of Admit ']\n",
    "stats.ttest_ind(bruh0, bruh1)"
   ]
  },
  {
   "cell_type": "markdown",
   "id": "04f5cafb-a834-4e8e-a2ff-8dff6a08553e",
   "metadata": {},
   "source": [
    "#### 2."
   ]
  },
  {
   "cell_type": "markdown",
   "id": "8c8a4f81-7730-422b-98a9-5b8eb3672f4c",
   "metadata": {},
   "source": [
    "All three methods agree that we fail to reject H0. We are not able to prove that researchers have a better chance of admission compared to non-researchers."
   ]
  },
  {
   "cell_type": "markdown",
   "id": "9d711dfb-cc80-4c25-8fc7-06342ff76e64",
   "metadata": {},
   "source": [
    "## Extra credit:\n"
   ]
  },
  {
   "cell_type": "code",
   "execution_count": 160,
   "id": "77890fa2-edcc-4b10-83b0-9f427a3730fa",
   "metadata": {},
   "outputs": [],
   "source": [
    "## time constraints"
   ]
  },
  {
   "cell_type": "code",
   "execution_count": null,
   "id": "68458a5c-6b72-4d0e-8c8e-29f64b93e3f3",
   "metadata": {},
   "outputs": [],
   "source": []
  }
 ],
 "metadata": {
  "kernelspec": {
   "display_name": "Python 3 (ipykernel)",
   "language": "python",
   "name": "python3"
  },
  "language_info": {
   "codemirror_mode": {
    "name": "ipython",
    "version": 3
   },
   "file_extension": ".py",
   "mimetype": "text/x-python",
   "name": "python",
   "nbconvert_exporter": "python",
   "pygments_lexer": "ipython3",
   "version": "3.9.7"
  }
 },
 "nbformat": 4,
 "nbformat_minor": 5
}
